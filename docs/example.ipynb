{
 "cells": [
  {
   "cell_type": "markdown",
   "metadata": {},
   "source": [
    "# Finance Calculator Tutorial\n",
    "\n",
    "To use `financecalculator` in a project:"
   ]
  },
  {
   "cell_type": "markdown",
   "metadata": {},
   "source": [
    "Welcome to the FinanceCalculator package documentation! FinanceCalculator is a Python package that can be used for calculating financial metrics specifically designed for loans or investment scenarios. This package serves as a convenient tool for managing personal finances, offering functionalities to calculate Present Value, Future Value, Contributions, and Frequency."
   ]
  },
  {
   "cell_type": "code",
   "execution_count": null,
   "metadata": {},
   "outputs": [],
   "source": []
  },
  {
   "cell_type": "code",
   "execution_count": 1,
   "metadata": {},
   "outputs": [
    {
     "name": "stdout",
     "output_type": "stream",
     "text": [
      "0.1.0\n"
     ]
    }
   ],
   "source": [
    "#import pandas as pd\n",
    "import financecalculator\n",
    "from financecalculator.future_value import future_value\n",
    "from financecalculator.present_value import present_value\n",
    "from financecalculator.contribution import calculate_contribution\n",
    "from financecalculator.n_periods import n_periods\n",
    "\n",
    "print(financecalculator.__version__)"
   ]
  },
  {
   "cell_type": "markdown",
   "metadata": {},
   "source": [
    "**NOTE:** I added excess cells as a TEMPLATE to avoid merge conflicts. Please do NOT delete or add any extra cells. Please work within the 15 cells and we can tidy it up after everyone's completed their part :) "
   ]
  },
  {
   "cell_type": "markdown",
   "metadata": {},
   "source": [
    "## Meet Tommy"
   ]
  },
  {
   "cell_type": "markdown",
   "metadata": {},
   "source": [
    "Tommy is a middle-aged family man juggling work, raising kids, and managing household responsibilities. Recently, he's realized he needs to take his financial planning more seriously if he wants to secure a comfortable future for himself and his family. With some loans to pay off, a growing list of goals, and a desire to save more, Tommy is looking for practical tools that can help him make smarter financial decisions.  \n",
    "Enter FinanceCalculator — a simple, easy-to-use Python package designed to help people like Tommy take control of their finances. Whether he's planning for his retirement, saving for a dream family vacation, or just trying to understand how much he needs to set aside each month, FinanceCalculator is here to guide him through the process. "
   ]
  },
  {
   "cell_type": "code",
   "execution_count": null,
   "metadata": {},
   "outputs": [],
   "source": []
  },
  {
   "cell_type": "code",
   "execution_count": null,
   "metadata": {},
   "outputs": [],
   "source": []
  },
  {
   "cell_type": "code",
   "execution_count": null,
   "metadata": {},
   "outputs": [],
   "source": []
  },
  {
   "cell_type": "markdown",
   "metadata": {},
   "source": [
    "## Present Value"
   ]
  },
  {
   "cell_type": "code",
   "execution_count": 2,
   "metadata": {},
   "outputs": [
    {
     "data": {
      "text/html": [
       "<div>\n",
       "<style scoped>\n",
       "    .dataframe tbody tr th:only-of-type {\n",
       "        vertical-align: middle;\n",
       "    }\n",
       "\n",
       "    .dataframe tbody tr th {\n",
       "        vertical-align: top;\n",
       "    }\n",
       "\n",
       "    .dataframe thead th {\n",
       "        text-align: right;\n",
       "    }\n",
       "</style>\n",
       "<table border=\"1\" class=\"dataframe\">\n",
       "  <thead>\n",
       "    <tr style=\"text-align: right;\">\n",
       "      <th></th>\n",
       "      <th>Present Value</th>\n",
       "      <th>Principal</th>\n",
       "      <th>Contributions</th>\n",
       "      <th>Interest Saved</th>\n",
       "    </tr>\n",
       "  </thead>\n",
       "  <tbody>\n",
       "    <tr>\n",
       "      <th>0</th>\n",
       "      <td>2168.1222</td>\n",
       "      <td>1000</td>\n",
       "      <td>1200</td>\n",
       "      <td>968.1222</td>\n",
       "    </tr>\n",
       "  </tbody>\n",
       "</table>\n",
       "</div>"
      ],
      "text/plain": [
       "   Present Value  Principal  Contributions  Interest Saved\n",
       "0      2168.1222       1000           1200        968.1222"
      ]
     },
     "execution_count": 2,
     "metadata": {},
     "output_type": "execute_result"
    }
   ],
   "source": [
    "present_value(1000, 5, 12, 100) #just checking function works"
   ]
  },
  {
   "cell_type": "markdown",
   "metadata": {},
   "source": [
    "Tommy dreams of buying a house in the next 10 years. He currently has <span>&#36;</span>20,000 saved up, and he wants to save a total of <span>&#36;</span>100,000 to make a down payment. To achieve his goal, he plans to contribute $500 every month, and his savings account offers an annual interest rate of 4%, compounded monthly."
   ]
  },
  {
   "cell_type": "markdown",
   "metadata": {},
   "source": [
    "Using the `present_value` function, Tommy can estimate how much his savings will be worth at the end of 10 years, considering his monthly contributions."
   ]
  },
  {
   "cell_type": "markdown",
   "metadata": {},
   "source": [
    "#### Input Parameters:\n",
    "1. **Principal (PV)**: 20,000 (current saving)\n",
    "2. **Annual Interest Rate (r)**: 4% (provided by the bank)\n",
    "3. **Total Number of Periods (n)**: 120 months (10 years * 12 months)\n",
    "4. **Monthly Contribution (PMT)**: 500 (monthly saving from Tommy’s budget)    \n",
    "\n",
    "Tommy runs the following calculation in Python:"
   ]
  },
  {
   "cell_type": "code",
   "execution_count": 3,
   "metadata": {},
   "outputs": [
    {
     "name": "stderr",
     "output_type": "stream",
     "text": [
      "C:\\Users\\aa224\\UBC MDS\\block4\\524\\FinanceCalculator\\src\\financecalculator\\present_value.py:48: UserWarning: Warning: Annual rate is percentage. E.g. if you want to enter 0.05 for 5%, please enter 5.\n",
      "  warnings.warn(\"Warning: Annual rate is percentage. E.g. if you want to enter 0.05 for 5%, please enter 5.\", UserWarning)\n"
     ]
    },
    {
     "data": {
      "text/html": [
       "<div>\n",
       "<style scoped>\n",
       "    .dataframe tbody tr th:only-of-type {\n",
       "        vertical-align: middle;\n",
       "    }\n",
       "\n",
       "    .dataframe tbody tr th {\n",
       "        vertical-align: top;\n",
       "    }\n",
       "\n",
       "    .dataframe thead th {\n",
       "        text-align: right;\n",
       "    }\n",
       "</style>\n",
       "<table border=\"1\" class=\"dataframe\">\n",
       "  <thead>\n",
       "    <tr style=\"text-align: right;\">\n",
       "      <th></th>\n",
       "      <th>Present Value</th>\n",
       "      <th>Principal</th>\n",
       "      <th>Contributions</th>\n",
       "      <th>Interest Saved</th>\n",
       "    </tr>\n",
       "  </thead>\n",
       "  <tbody>\n",
       "    <tr>\n",
       "      <th>0</th>\n",
       "      <td>79879.163854</td>\n",
       "      <td>20000</td>\n",
       "      <td>60000</td>\n",
       "      <td>19879.163854</td>\n",
       "    </tr>\n",
       "  </tbody>\n",
       "</table>\n",
       "</div>"
      ],
      "text/plain": [
       "   Present Value  Principal  Contributions  Interest Saved\n",
       "0   79879.163854      20000          60000    19879.163854"
      ]
     },
     "execution_count": 3,
     "metadata": {},
     "output_type": "execute_result"
    }
   ],
   "source": [
    "import pandas as pd\n",
    "from financecalculator.present_value import present_value\n",
    "\n",
    "principal = 20000      # current saving\n",
    "annual_rate = 0.04     # receive warning\n",
    "n_periods = 10 * 12    # Time period (in months)\n",
    "contribution = 500     # Monthly contribution\n",
    "\n",
    "present_value(principal, annual_rate, n_periods, contribution)"
   ]
  },
  {
   "cell_type": "markdown",
   "metadata": {},
   "source": [
    "***Note**: `annual_rate` is calculated in percentage, so please enter the numeric part of the percentage. E.g. if you want to enter 0.05 for 5%, please enter 5.\n",
    "Pandas must also be imported for the `present_value` function, as it returns back a dataframe*"
   ]
  },
  {
   "cell_type": "markdown",
   "metadata": {},
   "source": [
    "Tommu get a warning! Because `annual_rate` is calculated in percentage in all the function in `FinanceCalculator` package, he need to double check the inputs. Although the function provides a result, this is not what Tom wants."
   ]
  },
  {
   "cell_type": "markdown",
   "metadata": {},
   "source": [
    "Tommy runs the following calculation in Python with right `annual_rate`:"
   ]
  },
  {
   "cell_type": "code",
   "execution_count": 4,
   "metadata": {},
   "outputs": [
    {
     "data": {
      "text/html": [
       "<div>\n",
       "<style scoped>\n",
       "    .dataframe tbody tr th:only-of-type {\n",
       "        vertical-align: middle;\n",
       "    }\n",
       "\n",
       "    .dataframe tbody tr th {\n",
       "        vertical-align: top;\n",
       "    }\n",
       "\n",
       "    .dataframe thead th {\n",
       "        text-align: right;\n",
       "    }\n",
       "</style>\n",
       "<table border=\"1\" class=\"dataframe\">\n",
       "  <thead>\n",
       "    <tr style=\"text-align: right;\">\n",
       "      <th></th>\n",
       "      <th>Present Value</th>\n",
       "      <th>Principal</th>\n",
       "      <th>Contributions</th>\n",
       "      <th>Interest Saved</th>\n",
       "    </tr>\n",
       "  </thead>\n",
       "  <tbody>\n",
       "    <tr>\n",
       "      <th>0</th>\n",
       "      <td>69385.087429</td>\n",
       "      <td>20000</td>\n",
       "      <td>60000</td>\n",
       "      <td>9385.087429</td>\n",
       "    </tr>\n",
       "  </tbody>\n",
       "</table>\n",
       "</div>"
      ],
      "text/plain": [
       "   Present Value  Principal  Contributions  Interest Saved\n",
       "0   69385.087429      20000          60000     9385.087429"
      ]
     },
     "execution_count": 4,
     "metadata": {},
     "output_type": "execute_result"
    }
   ],
   "source": [
    "import pandas as pd\n",
    "from financecalculator.present_value import present_value\n",
    "\n",
    "principal = 20000      # current saving for education\n",
    "annual_rate = 4        # Annual interest rate in percentage\n",
    "n_periods = 10 * 12    # Time period (in months)\n",
    "contribution = 500     # Monthly contribution\n",
    "\n",
    "present_value(principal, annual_rate, n_periods, contribution)"
   ]
  },
  {
   "cell_type": "markdown",
   "metadata": {},
   "source": [
    "Under the current plan, Tommy can reach his goal of <span>&#36;</span>69,385.09 on top of his existing principal by regularly depositing $500 over 10 years. It's still far from 100,000! Tommy should reconsider switching to a bank with a higher savings interest rate or increasing his monthly contributions."
   ]
  },
  {
   "cell_type": "code",
   "execution_count": null,
   "metadata": {},
   "outputs": [],
   "source": []
  },
  {
   "cell_type": "code",
   "execution_count": null,
   "metadata": {},
   "outputs": [],
   "source": []
  },
  {
   "cell_type": "code",
   "execution_count": null,
   "metadata": {},
   "outputs": [],
   "source": []
  },
  {
   "cell_type": "code",
   "execution_count": null,
   "metadata": {},
   "outputs": [],
   "source": []
  },
  {
   "cell_type": "code",
   "execution_count": null,
   "metadata": {},
   "outputs": [],
   "source": []
  },
  {
   "cell_type": "markdown",
   "metadata": {},
   "source": [
    "### Future Value"
   ]
  },
  {
   "cell_type": "code",
   "execution_count": null,
   "metadata": {},
   "outputs": [],
   "source": []
  },
  {
   "cell_type": "markdown",
   "metadata": {},
   "source": [
    "Tommy wants to ensure he has enough saved up for a comfortable retirement. The `future_value` function can help him calculate how much his current savings will grow over time, based on an expected interest rate and a set number of time (in months). To get started, Tommy can fill in the function with his current savings, expected annual rate, time period, and any contributions he wants to make each month"
   ]
  },
  {
   "cell_type": "markdown",
   "metadata": {},
   "source": [
    "Tommy currently has <span>&#36;</span>50,000  dollars saved up, and hopes to retire in 30 years. With an annual interest rate of 5% compounded monthly, and Tommy decides he's also going to contribute <span>&#36;</span>100  dollars each month towards his retirement."
   ]
  },
  {
   "cell_type": "markdown",
   "metadata": {},
   "source": [
    "Let’s walk through how Tommy uses the `future_value` function to plan for his retirement:\n",
    "\n",
    "#### Input Parameters:\n",
    "1. **Principal (PV)**: 50,000 (current savings)\n",
    "2. **Annual Interest Rate (r)**: 5% (provided by the bank)\n",
    "3. **Total Number of Periods (n)**: 360 months (30 years * 12 months)\n",
    "4. **Monthly Contribution (PMT)**: 100 (monthly savings from Tommy’s budget)    \n",
    "\n",
    "Tommy runs the following calculation in Python:"
   ]
  },
  {
   "cell_type": "code",
   "execution_count": 5,
   "metadata": {},
   "outputs": [
    {
     "data": {
      "text/html": [
       "<div>\n",
       "<style scoped>\n",
       "    .dataframe tbody tr th:only-of-type {\n",
       "        vertical-align: middle;\n",
       "    }\n",
       "\n",
       "    .dataframe tbody tr th {\n",
       "        vertical-align: top;\n",
       "    }\n",
       "\n",
       "    .dataframe thead th {\n",
       "        text-align: right;\n",
       "    }\n",
       "</style>\n",
       "<table border=\"1\" class=\"dataframe\">\n",
       "  <thead>\n",
       "    <tr style=\"text-align: right;\">\n",
       "      <th></th>\n",
       "      <th>Future Value</th>\n",
       "      <th>Principal</th>\n",
       "      <th>Contributions</th>\n",
       "      <th>Interest Earned</th>\n",
       "    </tr>\n",
       "  </thead>\n",
       "  <tbody>\n",
       "    <tr>\n",
       "      <th>0</th>\n",
       "      <td>306613.08</td>\n",
       "      <td>50000</td>\n",
       "      <td>36000</td>\n",
       "      <td>220613.08</td>\n",
       "    </tr>\n",
       "  </tbody>\n",
       "</table>\n",
       "</div>"
      ],
      "text/plain": [
       "   Future Value  Principal  Contributions  Interest Earned\n",
       "0     306613.08      50000          36000        220613.08"
      ]
     },
     "execution_count": 5,
     "metadata": {},
     "output_type": "execute_result"
    }
   ],
   "source": [
    "import pandas as pd\n",
    "from financecalculator.future_value import future_value\n",
    "\n",
    "principal = 50000     # Current savings\n",
    "annual_rate = 5       # Annual interest rate in percentage\n",
    "n_periods = 12*30     # time period (in months)\n",
    "contribution = 100    # Monthly contribution\n",
    "\n",
    "future_value(principal, annual_rate, n_periods, contribution)"
   ]
  },
  {
   "cell_type": "markdown",
   "metadata": {},
   "source": [
    "***Note**: `n_periods` is calculated in months, so to estimate number of years you must mutiply by 12 as shown above.  \n",
    "Pandas must also be imported for the `future_value` function, as it returns back a dataframe*"
   ]
  },
  {
   "cell_type": "markdown",
   "metadata": {},
   "source": [
    "We can see that Tommy will be able to save a total of <span>&#36;</span>306,613.08 dollars by the time of his retirement! By using the `future_value` function, Tommy can see how much his savings will grow over time, and determine he needs to contribute now to reach his retirement goal!"
   ]
  },
  {
   "cell_type": "code",
   "execution_count": null,
   "metadata": {},
   "outputs": [],
   "source": []
  },
  {
   "cell_type": "code",
   "execution_count": null,
   "metadata": {},
   "outputs": [],
   "source": []
  },
  {
   "cell_type": "markdown",
   "metadata": {},
   "source": []
  },
  {
   "cell_type": "code",
   "execution_count": null,
   "metadata": {},
   "outputs": [],
   "source": []
  },
  {
   "cell_type": "code",
   "execution_count": null,
   "metadata": {},
   "outputs": [],
   "source": []
  },
  {
   "cell_type": "code",
   "execution_count": null,
   "metadata": {},
   "outputs": [],
   "source": []
  },
  {
   "cell_type": "code",
   "execution_count": null,
   "metadata": {},
   "outputs": [],
   "source": []
  },
  {
   "cell_type": "code",
   "execution_count": null,
   "metadata": {},
   "outputs": [],
   "source": []
  },
  {
   "cell_type": "code",
   "execution_count": null,
   "metadata": {},
   "outputs": [],
   "source": []
  },
  {
   "cell_type": "markdown",
   "metadata": {},
   "source": [
    "## Contribution"
   ]
  },
  {
   "cell_type": "markdown",
   "metadata": {},
   "source": [
    "### PMT: Paying Off a Car Loan\n",
    "\n",
    "Tommy recently purchased a car and took out a loan of $25,000. The loan has an annual interest rate of 6% (compounded monthly) and must be repaid in 5 years. Tommy wants to figure out how much he needs to pay each month to fully repay the loan by the end of the term.\n",
    "\n",
    "#### Input Parameters:\n",
    "- **Principal (PV)**: -$25,000 (a negative value because it represents a loan, not savings)\n",
    "- **Future Value (FV)**: $0 (Tommy wants to pay off the loan entirely)\n",
    "- **Annual Interest Rate (r)**: 6%\n",
    "- **Number of Periods (n)**: 60 months (5 years * 12 months)\n",
    "\n",
    "Tommy runs the following calculation in Python:\n"
   ]
  },
  {
   "cell_type": "code",
   "execution_count": 6,
   "metadata": {},
   "outputs": [
    {
     "data": {
      "text/plain": [
       "483.32003823570676"
      ]
     },
     "execution_count": 6,
     "metadata": {},
     "output_type": "execute_result"
    }
   ],
   "source": [
    "from financecalculator.contribution import calculate_contribution\n",
    "\n",
    "principal = -25000      # Loan amount (negative value)\n",
    "future_value = 0        # Goal is to pay off the loan completely\n",
    "annual_rate = 6         # Annual interest rate in percentage\n",
    "n_periods = 5 * 12      # Loan term (in months)\n",
    "\n",
    "calculate_contribution(principal, future_value, annual_rate, n_periods)\n"
   ]
  },
  {
   "cell_type": "markdown",
   "metadata": {},
   "source": [
    "To fully repay his car loan in 5 years, Tommy will need to make monthly payments of **$483.32**.\n",
    "\n",
    "---\n",
    "\n",
    "#### Additional Scenario: Shorter Loan Term\n",
    "\n",
    "Tommy is curious how his monthly payment would change if he shortens the loan term to 3 years instead of 5 years. He adjusts the `n_periods` parameter accordingly:\n",
    "\n",
    "#### Input Parameters:\n",
    "- **Principal (PV)**: -$25,000\n",
    "- **Future Value (FV)**: $0\n",
    "- **Annual Interest Rate (r)**: 6%\n",
    "- **Number of Periods (n)**: 36 months (3 years * 12 months)\n",
    "\n",
    "Tommy runs the following calculation in Python:\n"
   ]
  },
  {
   "cell_type": "code",
   "execution_count": 7,
   "metadata": {},
   "outputs": [
    {
     "data": {
      "text/plain": [
       "760.548436288893"
      ]
     },
     "execution_count": 7,
     "metadata": {},
     "output_type": "execute_result"
    }
   ],
   "source": [
    "from financecalculator.contribution import calculate_contribution\n",
    "\n",
    "principal = -25000      # Loan amount (negative value)\n",
    "future_value = 0        # Goal is to pay off the loan completely\n",
    "annual_rate = 6         # Annual interest rate in percentage\n",
    "n_periods = 3 * 12      # Loan term (in months)\n",
    "\n",
    "calculate_contribution(principal, future_value, annual_rate, n_periods)\n"
   ]
  },
  {
   "cell_type": "markdown",
   "metadata": {},
   "source": [
    "If Tommy shortens the loan term to 3 years, his monthly payment will increase to **$760.55**. By comparing both scenarios, Tommy can evaluate whether paying off the loan faster is feasible within his budget.\n",
    "\n",
    "---\n",
    "\n",
    "### Notes:\n",
    "- **Loan Representation**: The principal for a loan is negative because it represents an amount owed, not an asset.\n",
    "- **Flexible Inputs**: The `calculate_contribution` function allows for adjustments in terms, rates, and goals, making it useful for diverse financial planning scenarios.\n"
   ]
  },
  {
   "cell_type": "markdown",
   "metadata": {},
   "source": [
    "### Contribution as Negative Value\n",
    "\n",
    "Tommy wants to withdraw $20,000 from his investment account over the next 5 years. He currently has $50,000 saved in the account, which earns an annual interest rate of 4%, compounded monthly. Tommy wants to calculate how much he can withdraw each month while ensuring his account balance reaches $30,000 by the end of 5 years.\n",
    "\n",
    "#### Input Parameters:\n",
    "- **Principal (PV)**: $50,000 (Tommy’s current savings)\n",
    "- **Future Value (FV)**: $30,000 (desired account balance after withdrawals)\n",
    "- **Annual Interest Rate (r)**: 4%\n",
    "- **Number of Periods (n)**: 60 months (5 years * 12 months)\n",
    "\n",
    "Tommy runs the following calculation in Python:\n"
   ]
  },
  {
   "cell_type": "code",
   "execution_count": 8,
   "metadata": {},
   "outputs": [
    {
     "data": {
      "text/plain": [
       "-1373.321764421278"
      ]
     },
     "execution_count": 8,
     "metadata": {},
     "output_type": "execute_result"
    }
   ],
   "source": [
    "from financecalculator.contribution import calculate_contribution\n",
    "\n",
    "principal = 50000       # Current savings\n",
    "future_value = 30000    # Desired future value after withdrawals\n",
    "annual_rate = 4         # Annual interest rate in percentage\n",
    "n_periods = 5 * 12      # Time period (in months)\n",
    "\n",
    "calculate_contribution(principal, future_value, annual_rate, n_periods)\n"
   ]
  },
  {
   "cell_type": "markdown",
   "metadata": {},
   "source": [
    "To withdraw $20,000 over the next 5 years and still maintain $30,000 in his account, Tommy can withdraw **$-1373.32** every month. The negative sign indicates that this is a withdrawal, not a deposit.\n",
    "\n",
    "---\n",
    "\n",
    "### Notes:\n",
    "- **Contribution as Negative**: A negative contribution represents withdrawals from an account rather than deposits.\n",
    "- **Real-World Use Case**: This calculation is useful for retirees or individuals planning systematic withdrawals from savings or investment accounts.\n"
   ]
  },
  {
   "cell_type": "code",
   "execution_count": null,
   "metadata": {},
   "outputs": [],
   "source": []
  },
  {
   "cell_type": "code",
   "execution_count": null,
   "metadata": {},
   "outputs": [],
   "source": []
  },
  {
   "cell_type": "code",
   "execution_count": null,
   "metadata": {},
   "outputs": [],
   "source": []
  },
  {
   "cell_type": "code",
   "execution_count": null,
   "metadata": {},
   "outputs": [],
   "source": []
  },
  {
   "cell_type": "code",
   "execution_count": null,
   "metadata": {},
   "outputs": [],
   "source": []
  },
  {
   "cell_type": "code",
   "execution_count": null,
   "metadata": {},
   "outputs": [],
   "source": []
  },
  {
   "cell_type": "code",
   "execution_count": null,
   "metadata": {},
   "outputs": [],
   "source": []
  },
  {
   "cell_type": "code",
   "execution_count": null,
   "metadata": {},
   "outputs": [],
   "source": []
  },
  {
   "cell_type": "markdown",
   "metadata": {},
   "source": [
    "## n_periods"
   ]
  },
  {
   "cell_type": "code",
   "execution_count": 9,
   "metadata": {},
   "outputs": [
    {
     "ename": "TypeError",
     "evalue": "'int' object is not callable",
     "output_type": "error",
     "traceback": [
      "\u001b[1;31m---------------------------------------------------------------------------\u001b[0m",
      "\u001b[1;31mTypeError\u001b[0m                                 Traceback (most recent call last)",
      "Cell \u001b[1;32mIn[9], line 1\u001b[0m\n\u001b[1;32m----> 1\u001b[0m \u001b[43mn_periods\u001b[49m\u001b[43m(\u001b[49m\u001b[38;5;241;43m1000\u001b[39;49m\u001b[43m,\u001b[49m\u001b[43m \u001b[49m\u001b[38;5;241;43m5\u001b[39;49m\u001b[43m,\u001b[49m\u001b[43m \u001b[49m\u001b[38;5;241;43m2000\u001b[39;49m\u001b[43m,\u001b[49m\u001b[43m \u001b[49m\u001b[38;5;241;43m100\u001b[39;49m\u001b[43m)\u001b[49m\n",
      "\u001b[1;31mTypeError\u001b[0m: 'int' object is not callable"
     ]
    }
   ],
   "source": [
    "n_periods(1000, 5, 2000, 100)"
   ]
  },
  {
   "cell_type": "markdown",
   "metadata": {},
   "source": [
    "Persona: Tommy, a 40-year-old family man, is becoming more financially aware and is planning for his family’s future. He wants to save up for a family vacation to Hawaii in two years while maintaining his monthly expenses."
   ]
  },
  {
   "cell_type": "markdown",
   "metadata": {},
   "source": [
    "Tommy’s Financial Goal\n",
    "\n",
    "Tommy plans to save <span>&#36;</span>2,000 over the next two years for the vacation. He already has <span>&#36;</span>1,000 dollars saved and can contribute $100 per month. His bank offers a 5% annual interest rate, compounded monthly. Tommy wants to calculate how many months it will take to reach his savings goal.\n",
    "\n",
    "Using the n_periods function, Tommy can input his principal amount, annual interest rate, future value, and monthly contributions to determine how long he needs to save."
   ]
  },
  {
   "cell_type": "markdown",
   "metadata": {},
   "source": [
    "Using the n_periods Function\n",
    "\n",
    "Let’s walk through how Tommy uses the function to plan his savings.\n",
    "\n",
    "Input Parameters:\n",
    "\t\n",
    "    1.\tPrincipal: 1,000 dollars(current savings)\n",
    "    \n",
    "\t2.\tAnnual Interest Rate: 5% (provided by the bank)\n",
    "    \n",
    "\t3.\tFuture Value: 2,000 dollars(vacation goal)\n",
    "    \n",
    "\t4.\tMonthly Contribution: $100 (monthly savings from Tommy’s budget)\n",
    "\n",
    "Tommy runs the following calculation in Python:"
   ]
  },
  {
   "cell_type": "code",
   "execution_count": null,
   "metadata": {},
   "outputs": [],
   "source": [
    "# Tommy's input parameters\n",
    "principal = 1000       # Current savings\n",
    "annual_rate = 5        # Annual interest rate in percentage\n",
    "future_value = 2000    # Savings goal\n",
    "contribution = 100     # Monthly contribution\n",
    "\n",
    "# Calculate the number of periods (months)\n",
    "months = n_periods(principal, annual_rate, future_value, contribution)\n",
    "\n",
    "print(f\"Tommy needs to save for {months} months to reach his goal.\")"
   ]
  },
  {
   "cell_type": "markdown",
   "metadata": {},
   "source": [
    "This means Tommy can reach his <span>&#36;</span>2,000 goal in just 9 months if he consistently saves <span>&#36;</span>100 per month. The interest from the bank helps him achieve his goal faster."
   ]
  },
  {
   "cell_type": "markdown",
   "metadata": {},
   "source": [
    "A Reflection on Tommy’s Journey\n",
    "\n",
    "Tommy is thrilled to realize he can afford the family vacation sooner than expected, thanks to the power of compound interest and a disciplined savings plan. The n_periods function gives him confidence in his financial planning, allowing him to focus on other goals like retirement savings and his children’s education."
   ]
  },
  {
   "cell_type": "markdown",
   "metadata": {},
   "source": [
    "How You Can Use the n_periods Function\n",
    "\n",
    "Whether you’re saving for a vacation, a new car, or any financial goal, the n_periods function simplifies the math for you. Just input your starting savings, interest rate, goal, and monthly contributions to determine the exact time required to achieve your dreams."
   ]
  },
  {
   "cell_type": "code",
   "execution_count": null,
   "metadata": {},
   "outputs": [],
   "source": []
  },
  {
   "cell_type": "code",
   "execution_count": null,
   "metadata": {},
   "outputs": [],
   "source": []
  },
  {
   "cell_type": "code",
   "execution_count": null,
   "metadata": {},
   "outputs": [],
   "source": []
  },
  {
   "cell_type": "code",
   "execution_count": null,
   "metadata": {},
   "outputs": [],
   "source": []
  },
  {
   "cell_type": "code",
   "execution_count": null,
   "metadata": {},
   "outputs": [],
   "source": []
  },
  {
   "cell_type": "code",
   "execution_count": null,
   "metadata": {},
   "outputs": [],
   "source": []
  },
  {
   "cell_type": "code",
   "execution_count": null,
   "metadata": {},
   "outputs": [],
   "source": []
  },
  {
   "cell_type": "code",
   "execution_count": null,
   "metadata": {},
   "outputs": [],
   "source": []
  }
 ],
 "metadata": {
  "kernelspec": {
   "display_name": "Python 3 (ipykernel)",
   "language": "python",
   "name": "python3"
  },
  "language_info": {
   "codemirror_mode": {
    "name": "ipython",
    "version": 3
   },
   "file_extension": ".py",
   "mimetype": "text/x-python",
   "name": "python",
   "nbconvert_exporter": "python",
   "pygments_lexer": "ipython3",
   "version": "3.11.11"
  }
 },
 "nbformat": 4,
 "nbformat_minor": 4
}
